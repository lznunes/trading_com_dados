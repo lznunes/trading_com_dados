{
 "cells": [
  {
   "cell_type": "markdown",
   "metadata": {},
   "source": [
    "### Praticando Regressão"
   ]
  },
  {
   "cell_type": "code",
   "execution_count": 50,
   "metadata": {},
   "outputs": [],
   "source": [
    "#importando bibliotecas e ocutando warnings\n",
    "import numpy as np\n",
    "import pandas as pd\n",
    "import matplotlib.pyplot as plt\n",
    "import warnings\n",
    "warnings.filterwarnings('ignore')"
   ]
  },
  {
   "cell_type": "code",
   "execution_count": 51,
   "metadata": {},
   "outputs": [
    {
     "data": {
      "text/html": [
       "<div>\n",
       "<style scoped>\n",
       "    .dataframe tbody tr th:only-of-type {\n",
       "        vertical-align: middle;\n",
       "    }\n",
       "\n",
       "    .dataframe tbody tr th {\n",
       "        vertical-align: top;\n",
       "    }\n",
       "\n",
       "    .dataframe thead th {\n",
       "        text-align: right;\n",
       "    }\n",
       "</style>\n",
       "<table border=\"1\" class=\"dataframe\">\n",
       "  <thead>\n",
       "    <tr style=\"text-align: right;\">\n",
       "      <th></th>\n",
       "      <th>companhia</th>\n",
       "      <th>opex</th>\n",
       "      <th>remuneracaoEmAcoes</th>\n",
       "      <th>despesasAdministrativas</th>\n",
       "      <th>exercicioOpcoes</th>\n",
       "      <th>compraTitulos</th>\n",
       "      <th>jurosAPagar</th>\n",
       "      <th>valorGastoExercicioOpcoes</th>\n",
       "      <th>amortizacao</th>\n",
       "      <th>rendaOperacoesContinuadas</th>\n",
       "      <th>lucroBruto</th>\n",
       "      <th>receitas</th>\n",
       "      <th>ativos</th>\n",
       "      <th>passivos</th>\n",
       "      <th>depreciacao</th>\n",
       "      <th>ganhosPorAcao</th>\n",
       "      <th>ebtida</th>\n",
       "      <th>temDivida</th>\n",
       "    </tr>\n",
       "  </thead>\n",
       "  <tbody>\n",
       "    <tr>\n",
       "      <th>0</th>\n",
       "      <td>1750.0</td>\n",
       "      <td>NaN</td>\n",
       "      <td>NaN</td>\n",
       "      <td>NaN</td>\n",
       "      <td>NaN</td>\n",
       "      <td>NaN</td>\n",
       "      <td>NaN</td>\n",
       "      <td>6700000.0</td>\n",
       "      <td>NaN</td>\n",
       "      <td>40500000.0</td>\n",
       "      <td>236900000.0</td>\n",
       "      <td>NaN</td>\n",
       "      <td>1.442100e+09</td>\n",
       "      <td>NaN</td>\n",
       "      <td>NaN</td>\n",
       "      <td>1.37</td>\n",
       "      <td>NaN</td>\n",
       "      <td>0.0</td>\n",
       "    </tr>\n",
       "    <tr>\n",
       "      <th>1</th>\n",
       "      <td>1800.0</td>\n",
       "      <td>NaN</td>\n",
       "      <td>NaN</td>\n",
       "      <td>NaN</td>\n",
       "      <td>314000000.0</td>\n",
       "      <td>NaN</td>\n",
       "      <td>NaN</td>\n",
       "      <td>NaN</td>\n",
       "      <td>NaN</td>\n",
       "      <td>NaN</td>\n",
       "      <td>NaN</td>\n",
       "      <td>NaN</td>\n",
       "      <td>4.124700e+10</td>\n",
       "      <td>NaN</td>\n",
       "      <td>871000000.0</td>\n",
       "      <td>2.94</td>\n",
       "      <td>NaN</td>\n",
       "      <td>1.0</td>\n",
       "    </tr>\n",
       "    <tr>\n",
       "      <th>2</th>\n",
       "      <td>2034.0</td>\n",
       "      <td>NaN</td>\n",
       "      <td>NaN</td>\n",
       "      <td>NaN</td>\n",
       "      <td>729000.0</td>\n",
       "      <td>NaN</td>\n",
       "      <td>NaN</td>\n",
       "      <td>729000.0</td>\n",
       "      <td>30977000.0</td>\n",
       "      <td>NaN</td>\n",
       "      <td>142785000.0</td>\n",
       "      <td>NaN</td>\n",
       "      <td>5.407780e+08</td>\n",
       "      <td>236336000.0</td>\n",
       "      <td>1522000.0</td>\n",
       "      <td>1.19</td>\n",
       "      <td>NaN</td>\n",
       "      <td>1.0</td>\n",
       "    </tr>\n",
       "    <tr>\n",
       "      <th>3</th>\n",
       "      <td>2098.0</td>\n",
       "      <td>NaN</td>\n",
       "      <td>NaN</td>\n",
       "      <td>NaN</td>\n",
       "      <td>NaN</td>\n",
       "      <td>NaN</td>\n",
       "      <td>NaN</td>\n",
       "      <td>1248782.0</td>\n",
       "      <td>NaN</td>\n",
       "      <td>NaN</td>\n",
       "      <td>39561218.0</td>\n",
       "      <td>1.098120e+08</td>\n",
       "      <td>8.142137e+07</td>\n",
       "      <td>38237805.0</td>\n",
       "      <td>1318357.0</td>\n",
       "      <td>1.44</td>\n",
       "      <td>NaN</td>\n",
       "      <td>0.0</td>\n",
       "    </tr>\n",
       "    <tr>\n",
       "      <th>4</th>\n",
       "      <td>2178.0</td>\n",
       "      <td>NaN</td>\n",
       "      <td>NaN</td>\n",
       "      <td>9939000.0</td>\n",
       "      <td>NaN</td>\n",
       "      <td>NaN</td>\n",
       "      <td>NaN</td>\n",
       "      <td>NaN</td>\n",
       "      <td>NaN</td>\n",
       "      <td>-1275000.0</td>\n",
       "      <td>NaN</td>\n",
       "      <td>1.944279e+09</td>\n",
       "      <td>2.432150e+08</td>\n",
       "      <td>90705000.0</td>\n",
       "      <td>NaN</td>\n",
       "      <td>NaN</td>\n",
       "      <td>NaN</td>\n",
       "      <td>0.0</td>\n",
       "    </tr>\n",
       "  </tbody>\n",
       "</table>\n",
       "</div>"
      ],
      "text/plain": [
       "   companhia  opex  remuneracaoEmAcoes  despesasAdministrativas  \\\n",
       "0     1750.0   NaN                 NaN                      NaN   \n",
       "1     1800.0   NaN                 NaN                      NaN   \n",
       "2     2034.0   NaN                 NaN                      NaN   \n",
       "3     2098.0   NaN                 NaN                      NaN   \n",
       "4     2178.0   NaN                 NaN                9939000.0   \n",
       "\n",
       "   exercicioOpcoes  compraTitulos  jurosAPagar  valorGastoExercicioOpcoes  \\\n",
       "0              NaN            NaN          NaN                  6700000.0   \n",
       "1      314000000.0            NaN          NaN                        NaN   \n",
       "2         729000.0            NaN          NaN                   729000.0   \n",
       "3              NaN            NaN          NaN                  1248782.0   \n",
       "4              NaN            NaN          NaN                        NaN   \n",
       "\n",
       "   amortizacao  rendaOperacoesContinuadas   lucroBruto      receitas  \\\n",
       "0          NaN                 40500000.0  236900000.0           NaN   \n",
       "1          NaN                        NaN          NaN           NaN   \n",
       "2   30977000.0                        NaN  142785000.0           NaN   \n",
       "3          NaN                        NaN   39561218.0  1.098120e+08   \n",
       "4          NaN                 -1275000.0          NaN  1.944279e+09   \n",
       "\n",
       "         ativos     passivos  depreciacao  ganhosPorAcao  ebtida  temDivida  \n",
       "0  1.442100e+09          NaN          NaN           1.37     NaN        0.0  \n",
       "1  4.124700e+10          NaN  871000000.0           2.94     NaN        1.0  \n",
       "2  5.407780e+08  236336000.0    1522000.0           1.19     NaN        1.0  \n",
       "3  8.142137e+07   38237805.0    1318357.0           1.44     NaN        0.0  \n",
       "4  2.432150e+08   90705000.0          NaN            NaN     NaN        0.0  "
      ]
     },
     "execution_count": 51,
     "metadata": {},
     "output_type": "execute_result"
    }
   ],
   "source": [
    "#capiturando dados de arquivo csv\n",
    "dados = pd.read_csv('train.csv', sep=';')\n",
    "dados.head()"
   ]
  },
  {
   "cell_type": "code",
   "execution_count": null,
   "metadata": {},
   "outputs": [],
   "source": []
  },
  {
   "cell_type": "markdown",
   "metadata": {},
   "source": [
    "### Remover colunas não cruzadas"
   ]
  },
  {
   "cell_type": "code",
   "execution_count": 4,
   "metadata": {},
   "outputs": [
    {
     "data": {
      "text/plain": [
       "companhia                    0.000000\n",
       "opex                         0.560714\n",
       "remuneracaoEmAcoes           0.777857\n",
       "despesasAdministrativas      0.590238\n",
       "exercicioOpcoes              0.675000\n",
       "compraTitulos                0.800238\n",
       "jurosAPagar                  0.804762\n",
       "valorGastoExercicioOpcoes    0.735238\n",
       "amortizacao                  0.784762\n",
       "rendaOperacoesContinuadas    0.809524\n",
       "lucroBruto                   0.601905\n",
       "receitas                     0.556667\n",
       "ativos                       0.000000\n",
       "passivos                     0.251429\n",
       "depreciacao                  0.458810\n",
       "ganhosPorAcao                0.335476\n",
       "ebtida                       1.000000\n",
       "temDivida                    0.000000\n",
       "dtype: float64"
      ]
     },
     "execution_count": 4,
     "metadata": {},
     "output_type": "execute_result"
    }
   ],
   "source": [
    "#missing dos dados quantidas de colunas com campos nulos em porcentagem\n",
    "dados.isnull().sum() / len(dados)"
   ]
  },
  {
   "cell_type": "code",
   "execution_count": 5,
   "metadata": {},
   "outputs": [],
   "source": [
    "#criando um novo dataset removendo colunas com \n",
    "# porcentagem de nulos maior que 80% e coluna target temDivida\n",
    "\n",
    "dados_1 = dados.drop(columns=['compraTitulos','jurosAPagar','rendaOperacoesContinuadas',\n",
    "          'ebtida','temDivida'])"
   ]
  },
  {
   "cell_type": "code",
   "execution_count": 6,
   "metadata": {},
   "outputs": [],
   "source": [
    "#desconsiderando  Id da companhia e tornando-o indice \n",
    "# pois não pode fazer parte do nosso treinamento pois não é um dado relevante \n",
    "indice = dados_1['companhia']\n",
    "dados1 = dados_1.drop(columns=['companhia'],axis=1)"
   ]
  },
  {
   "cell_type": "code",
   "execution_count": 7,
   "metadata": {},
   "outputs": [
    {
     "data": {
      "text/plain": [
       "Index(['companhia', 'opex', 'remuneracaoEmAcoes', 'despesasAdministrativas',\n",
       "       'exercicioOpcoes', 'valorGastoExercicioOpcoes', 'amortizacao',\n",
       "       'lucroBruto', 'receitas', 'ativos', 'passivos', 'depreciacao',\n",
       "       'ganhosPorAcao'],\n",
       "      dtype='object')"
      ]
     },
     "execution_count": 7,
     "metadata": {},
     "output_type": "execute_result"
    }
   ],
   "source": [
    "dados_1.columns"
   ]
  },
  {
   "cell_type": "code",
   "execution_count": 37,
   "metadata": {},
   "outputs": [],
   "source": [
    "# remove empresas que não retornaram despesas administrativas\n",
    "dados_2 = dados_1.loc[dados_1['despesasAdministrativas'] > 1]\n",
    "dados = dados.loc[dados['despesasAdministrativas'] > 1]"
   ]
  },
  {
   "cell_type": "code",
   "execution_count": 38,
   "metadata": {},
   "outputs": [
    {
     "data": {
      "text/plain": [
       "companhia                    0.000000\n",
       "opex                         0.408401\n",
       "remuneracaoEmAcoes           0.773046\n",
       "despesasAdministrativas      0.000000\n",
       "exercicioOpcoes              0.678530\n",
       "valorGastoExercicioOpcoes    0.712369\n",
       "amortizacao                  0.786464\n",
       "lucroBruto                   0.610852\n",
       "receitas                     0.496499\n",
       "ativos                       0.000000\n",
       "passivos                     0.221704\n",
       "depreciacao                  0.495333\n",
       "ganhosPorAcao                0.446324\n",
       "dtype: float64"
      ]
     },
     "execution_count": 38,
     "metadata": {},
     "output_type": "execute_result"
    }
   ],
   "source": [
    "#consulta após alteração\n",
    "dados_2.isnull().sum() / len(dados_2)"
   ]
  },
  {
   "cell_type": "code",
   "execution_count": 39,
   "metadata": {},
   "outputs": [
    {
     "name": "stdout",
     "output_type": "stream",
     "text": [
      "Variavel do histograma: companhia\n"
     ]
    },
    {
     "data": {
      "image/png": "[encoded data removed]",
      "text/plain": [
       "<Figure size 432x288 with 1 Axes>"
      ]
     },
     "metadata": {
      "needs_background": "light"
     },
     "output_type": "display_data"
    },
    {
     "name": "stdout",
     "output_type": "stream",
     "text": [
      "Variavel do histograma: opex\n"
     ]
    },
    {
     "data": {
      "image/png": "[encoded data removed]",
      "text/plain": [
       "<Figure size 432x288 with 1 Axes>"
      ]
     },
     "metadata": {
      "needs_background": "light"
     },
     "output_type": "display_data"
    },
    {
     "name": "stdout",
     "output_type": "stream",
     "text": [
      "Variavel do histograma: remuneracaoEmAcoes\n"
     ]
    },
    {
     "data": {
      "image/png": "[encoded data removed]",
      "text/plain": [
       "<Figure size 432x288 with 1 Axes>"
      ]
     },
     "metadata": {
      "needs_background": "light"
     },
     "output_type": "display_data"
    },
    {
     "name": "stdout",
     "output_type": "stream",
     "text": [
      "Variavel do histograma: despesasAdministrativas\n"
     ]
    },
    {
     "data": {
      "image/png": "[encoded data removed]",
      "text/plain": [
       "<Figure size 432x288 with 1 Axes>"
      ]
     },
     "metadata": {
      "needs_background": "light"
     },
     "output_type": "display_data"
    },
    {
     "name": "stdout",
     "output_type": "stream",
     "text": [
      "Variavel do histograma: exercicioOpcoes\n"
     ]
    },
    {
     "data": {
      "image/png": "[encoded data removed]",
      "text/plain": [
       "<Figure size 432x288 with 1 Axes>"
      ]
     },
     "metadata": {
      "needs_background": "light"
     },
     "output_type": "display_data"
    },
    {
     "name": "stdout",
     "output_type": "stream",
     "text": [
      "Variavel do histograma: valorGastoExercicioOpcoes\n"
     ]
    },
    {
     "data": {
      "image/png": "[encoded data removed]",
      "text/plain": [
       "<Figure size 432x288 with 1 Axes>"
      ]
     },
     "metadata": {
      "needs_background": "light"
     },
     "output_type": "display_data"
    },
    {
     "name": "stdout",
     "output_type": "stream",
     "text": [
      "Variavel do histograma: amortizacao\n"
     ]
    },
    {
     "data": {
      "image/png": "[encoded data removed]",
      "text/plain": [
       "<Figure size 432x288 with 1 Axes>"
      ]
     },
     "metadata": {
      "needs_background": "light"
     },
     "output_type": "display_data"
    },
    {
     "name": "stdout",
     "output_type": "stream",
     "text": [
      "Variavel do histograma: lucroBruto\n"
     ]
    },
    {
     "data": {
      "image/png": "[encoded data removed]",
      "text/plain": [
       "<Figure size 432x288 with 1 Axes>"
      ]
     },
     "metadata": {
      "needs_background": "light"
     },
     "output_type": "display_data"
    },
    {
     "name": "stdout",
     "output_type": "stream",
     "text": [
      "Variavel do histograma: receitas\n"
     ]
    },
    {
     "data": {
      "image/png": "[encoded data removed]",
      "text/plain": [
       "<Figure size 432x288 with 1 Axes>"
      ]
     },
     "metadata": {
      "needs_background": "light"
     },
     "output_type": "display_data"
    },
    {
     "name": "stdout",
     "output_type": "stream",
     "text": [
      "Variavel do histograma: ativos\n"
     ]
    },
    {
     "data": {
      "image/png": "[encoded data removed]",
      "text/plain": [
       "<Figure size 432x288 with 1 Axes>"
      ]
     },
     "metadata": {
      "needs_background": "light"
     },
     "output_type": "display_data"
    },
    {
     "name": "stdout",
     "output_type": "stream",
     "text": [
      "Variavel do histograma: passivos\n"
     ]
    },
    {
     "data": {
      "image/png": "[encoded data removed]",
      "text/plain": [
       "<Figure size 432x288 with 1 Axes>"
      ]
     },
     "metadata": {
      "needs_background": "light"
     },
     "output_type": "display_data"
    },
    {
     "name": "stdout",
     "output_type": "stream",
     "text": [
      "Variavel do histograma: depreciacao\n"
     ]
    },
    {
     "data": {
      "image/png": "[encoded data removed]",
      "text/plain": [
       "<Figure size 432x288 with 1 Axes>"
      ]
     },
     "metadata": {
      "needs_background": "light"
     },
     "output_type": "display_data"
    },
    {
     "name": "stdout",
     "output_type": "stream",
     "text": [
      "Variavel do histograma: ganhosPorAcao\n"
     ]
    },
    {
     "data": {
      "image/png": "[encoded data removed]",
      "text/plain": [
       "<Figure size 432x288 with 1 Axes>"
      ]
     },
     "metadata": {
      "needs_background": "light"
     },
     "output_type": "display_data"
    }
   ],
   "source": [
    "#funcao exibe historograma de todas colulas\n",
    "def hist(df):\n",
    "    columns = df.columns\n",
    "    \n",
    "    for x in columns:\n",
    "        df[x].hist()\n",
    "        print('Variavel do histograma: {}' .format(x))\n",
    "        plt.show()\n",
    "hist(dados_2)\n"
   ]
  },
  {
   "cell_type": "code",
   "execution_count": 40,
   "metadata": {},
   "outputs": [
    {
     "data": {
      "text/plain": [
       "0.0           5\n",
       "500000.0      4\n",
       "2800000.0     3\n",
       "2400000.0     2\n",
       "72000000.0    2\n",
       "             ..\n",
       "11000000.0    1\n",
       "2152000.0     1\n",
       "74000.0       1\n",
       "17675000.0    1\n",
       "6144000.0     1\n",
       "Name: amortizacao, Length: 347, dtype: int64"
      ]
     },
     "execution_count": 40,
     "metadata": {},
     "output_type": "execute_result"
    }
   ],
   "source": [
    "dados_2['amortizacao'].value_counts()"
   ]
  },
  {
   "cell_type": "code",
   "execution_count": 52,
   "metadata": {},
   "outputs": [],
   "source": [
    "#vamos fazer o tratamento de dados faltantes replicar por -1\n",
    "dados_2 = dados_2.fillna(-1)"
   ]
  },
  {
   "cell_type": "code",
   "execution_count": 53,
   "metadata": {
    "scrolled": true
   },
   "outputs": [
    {
     "data": {
      "text/plain": [
       "companhia                    False\n",
       "opex                         False\n",
       "remuneracaoEmAcoes           False\n",
       "despesasAdministrativas      False\n",
       "exercicioOpcoes              False\n",
       "valorGastoExercicioOpcoes    False\n",
       "amortizacao                  False\n",
       "lucroBruto                   False\n",
       "receitas                     False\n",
       "ativos                       False\n",
       "passivos                     False\n",
       "depreciacao                  False\n",
       "ganhosPorAcao                False\n",
       "dtype: bool"
      ]
     },
     "execution_count": 53,
     "metadata": {},
     "output_type": "execute_result"
    }
   ],
   "source": [
    "#valida se existe campo nulo\n",
    "dados_2.isnull().any()"
   ]
  },
  {
   "cell_type": "code",
   "execution_count": 54,
   "metadata": {},
   "outputs": [
    {
     "data": {
      "text/plain": [
       "companhia                    float64\n",
       "opex                         float64\n",
       "remuneracaoEmAcoes           float64\n",
       "despesasAdministrativas      float64\n",
       "exercicioOpcoes              float64\n",
       "valorGastoExercicioOpcoes    float64\n",
       "amortizacao                  float64\n",
       "lucroBruto                   float64\n",
       "receitas                     float64\n",
       "ativos                       float64\n",
       "passivos                     float64\n",
       "depreciacao                  float64\n",
       "ganhosPorAcao                float64\n",
       "dtype: object"
      ]
     },
     "execution_count": 54,
     "metadata": {},
     "output_type": "execute_result"
    }
   ],
   "source": [
    "#valida tipo de variavel\n",
    "dados_2.dtypes"
   ]
  },
  {
   "cell_type": "code",
   "execution_count": 55,
   "metadata": {},
   "outputs": [
    {
     "data": {
      "text/html": [
       "<div>\n",
       "<style scoped>\n",
       "    .dataframe tbody tr th:only-of-type {\n",
       "        vertical-align: middle;\n",
       "    }\n",
       "\n",
       "    .dataframe tbody tr th {\n",
       "        vertical-align: top;\n",
       "    }\n",
       "\n",
       "    .dataframe thead th {\n",
       "        text-align: right;\n",
       "    }\n",
       "</style>\n",
       "<table border=\"1\" class=\"dataframe\">\n",
       "  <thead>\n",
       "    <tr style=\"text-align: right;\">\n",
       "      <th></th>\n",
       "      <th>companhia</th>\n",
       "      <th>opex</th>\n",
       "      <th>remuneracaoEmAcoes</th>\n",
       "      <th>despesasAdministrativas</th>\n",
       "      <th>exercicioOpcoes</th>\n",
       "      <th>valorGastoExercicioOpcoes</th>\n",
       "      <th>amortizacao</th>\n",
       "      <th>lucroBruto</th>\n",
       "      <th>receitas</th>\n",
       "      <th>ativos</th>\n",
       "      <th>passivos</th>\n",
       "      <th>depreciacao</th>\n",
       "      <th>ganhosPorAcao</th>\n",
       "    </tr>\n",
       "  </thead>\n",
       "  <tbody>\n",
       "    <tr>\n",
       "      <th>4</th>\n",
       "      <td>2178</td>\n",
       "      <td>0</td>\n",
       "      <td>0</td>\n",
       "      <td>9939000</td>\n",
       "      <td>0</td>\n",
       "      <td>0</td>\n",
       "      <td>0</td>\n",
       "      <td>0</td>\n",
       "      <td>1944279000</td>\n",
       "      <td>243215000</td>\n",
       "      <td>90705000</td>\n",
       "      <td>0</td>\n",
       "      <td>0</td>\n",
       "    </tr>\n",
       "    <tr>\n",
       "      <th>13</th>\n",
       "      <td>3499</td>\n",
       "      <td>112710000</td>\n",
       "      <td>0</td>\n",
       "      <td>5406000</td>\n",
       "      <td>0</td>\n",
       "      <td>0</td>\n",
       "      <td>0</td>\n",
       "      <td>0</td>\n",
       "      <td>0</td>\n",
       "      <td>1447808000</td>\n",
       "      <td>1094928000</td>\n",
       "      <td>0</td>\n",
       "      <td>0</td>\n",
       "    </tr>\n",
       "    <tr>\n",
       "      <th>14</th>\n",
       "      <td>3545</td>\n",
       "      <td>0</td>\n",
       "      <td>0</td>\n",
       "      <td>16894000</td>\n",
       "      <td>0</td>\n",
       "      <td>0</td>\n",
       "      <td>0</td>\n",
       "      <td>35953000</td>\n",
       "      <td>153119000</td>\n",
       "      <td>460580000</td>\n",
       "      <td>282981000</td>\n",
       "      <td>0</td>\n",
       "      <td>1</td>\n",
       "    </tr>\n",
       "    <tr>\n",
       "      <th>15</th>\n",
       "      <td>3570</td>\n",
       "      <td>720198000</td>\n",
       "      <td>0</td>\n",
       "      <td>423862000</td>\n",
       "      <td>0</td>\n",
       "      <td>2279000</td>\n",
       "      <td>0</td>\n",
       "      <td>0</td>\n",
       "      <td>270885000</td>\n",
       "      <td>19019589000</td>\n",
       "      <td>0</td>\n",
       "      <td>82680000</td>\n",
       "      <td>0</td>\n",
       "    </tr>\n",
       "    <tr>\n",
       "      <th>19</th>\n",
       "      <td>4447</td>\n",
       "      <td>0</td>\n",
       "      <td>0</td>\n",
       "      <td>557000000</td>\n",
       "      <td>0</td>\n",
       "      <td>0</td>\n",
       "      <td>0</td>\n",
       "      <td>0</td>\n",
       "      <td>6561000000</td>\n",
       "      <td>34195000000</td>\n",
       "      <td>13794000000</td>\n",
       "      <td>0</td>\n",
       "      <td>-10</td>\n",
       "    </tr>\n",
       "    <tr>\n",
       "      <th>...</th>\n",
       "      <td>...</td>\n",
       "      <td>...</td>\n",
       "      <td>...</td>\n",
       "      <td>...</td>\n",
       "      <td>...</td>\n",
       "      <td>...</td>\n",
       "      <td>...</td>\n",
       "      <td>...</td>\n",
       "      <td>...</td>\n",
       "      <td>...</td>\n",
       "      <td>...</td>\n",
       "      <td>...</td>\n",
       "      <td>...</td>\n",
       "    </tr>\n",
       "    <tr>\n",
       "      <th>4194</th>\n",
       "      <td>1408198</td>\n",
       "      <td>0</td>\n",
       "      <td>0</td>\n",
       "      <td>86007000</td>\n",
       "      <td>3631000</td>\n",
       "      <td>19698000</td>\n",
       "      <td>186606000</td>\n",
       "      <td>0</td>\n",
       "      <td>1075013000</td>\n",
       "      <td>3146987000</td>\n",
       "      <td>2245500000</td>\n",
       "      <td>30889000</td>\n",
       "      <td>2</td>\n",
       "    </tr>\n",
       "    <tr>\n",
       "      <th>4195</th>\n",
       "      <td>1408278</td>\n",
       "      <td>0</td>\n",
       "      <td>0</td>\n",
       "      <td>15543000</td>\n",
       "      <td>70000</td>\n",
       "      <td>70000</td>\n",
       "      <td>6198000</td>\n",
       "      <td>0</td>\n",
       "      <td>110245000</td>\n",
       "      <td>89026000</td>\n",
       "      <td>42922000</td>\n",
       "      <td>0</td>\n",
       "      <td>0</td>\n",
       "    </tr>\n",
       "    <tr>\n",
       "      <th>4196</th>\n",
       "      <td>1408299</td>\n",
       "      <td>2241859</td>\n",
       "      <td>0</td>\n",
       "      <td>1429495</td>\n",
       "      <td>0</td>\n",
       "      <td>0</td>\n",
       "      <td>0</td>\n",
       "      <td>215903</td>\n",
       "      <td>346910</td>\n",
       "      <td>448606</td>\n",
       "      <td>1239794</td>\n",
       "      <td>18512</td>\n",
       "      <td>0</td>\n",
       "    </tr>\n",
       "    <tr>\n",
       "      <th>4197</th>\n",
       "      <td>1408351</td>\n",
       "      <td>4691915</td>\n",
       "      <td>0</td>\n",
       "      <td>1568506</td>\n",
       "      <td>0</td>\n",
       "      <td>0</td>\n",
       "      <td>0</td>\n",
       "      <td>0</td>\n",
       "      <td>918565</td>\n",
       "      <td>872346</td>\n",
       "      <td>9185062</td>\n",
       "      <td>63294</td>\n",
       "      <td>0</td>\n",
       "    </tr>\n",
       "    <tr>\n",
       "      <th>4198</th>\n",
       "      <td>1408356</td>\n",
       "      <td>766618000</td>\n",
       "      <td>0</td>\n",
       "      <td>244508000</td>\n",
       "      <td>11650000</td>\n",
       "      <td>11650000</td>\n",
       "      <td>49110000</td>\n",
       "      <td>118828000</td>\n",
       "      <td>399619000</td>\n",
       "      <td>7287118000</td>\n",
       "      <td>5552555000</td>\n",
       "      <td>0</td>\n",
       "      <td>0</td>\n",
       "    </tr>\n",
       "  </tbody>\n",
       "</table>\n",
       "<p>1714 rows × 13 columns</p>\n",
       "</div>"
      ],
      "text/plain": [
       "      companhia       opex  remuneracaoEmAcoes  despesasAdministrativas  \\\n",
       "4          2178          0                   0                  9939000   \n",
       "13         3499  112710000                   0                  5406000   \n",
       "14         3545          0                   0                 16894000   \n",
       "15         3570  720198000                   0                423862000   \n",
       "19         4447          0                   0                557000000   \n",
       "...         ...        ...                 ...                      ...   \n",
       "4194    1408198          0                   0                 86007000   \n",
       "4195    1408278          0                   0                 15543000   \n",
       "4196    1408299    2241859                   0                  1429495   \n",
       "4197    1408351    4691915                   0                  1568506   \n",
       "4198    1408356  766618000                   0                244508000   \n",
       "\n",
       "      exercicioOpcoes  valorGastoExercicioOpcoes  amortizacao  lucroBruto  \\\n",
       "4                   0                          0            0           0   \n",
       "13                  0                          0            0           0   \n",
       "14                  0                          0            0    35953000   \n",
       "15                  0                    2279000            0           0   \n",
       "19                  0                          0            0           0   \n",
       "...               ...                        ...          ...         ...   \n",
       "4194          3631000                   19698000    186606000           0   \n",
       "4195            70000                      70000      6198000           0   \n",
       "4196                0                          0            0      215903   \n",
       "4197                0                          0            0           0   \n",
       "4198         11650000                   11650000     49110000   118828000   \n",
       "\n",
       "        receitas       ativos     passivos  depreciacao  ganhosPorAcao  \n",
       "4     1944279000    243215000     90705000            0              0  \n",
       "13             0   1447808000   1094928000            0              0  \n",
       "14     153119000    460580000    282981000            0              1  \n",
       "15     270885000  19019589000            0     82680000              0  \n",
       "19    6561000000  34195000000  13794000000            0            -10  \n",
       "...          ...          ...          ...          ...            ...  \n",
       "4194  1075013000   3146987000   2245500000     30889000              2  \n",
       "4195   110245000     89026000     42922000            0              0  \n",
       "4196      346910       448606      1239794        18512              0  \n",
       "4197      918565       872346      9185062        63294              0  \n",
       "4198   399619000   7287118000   5552555000            0              0  \n",
       "\n",
       "[1714 rows x 13 columns]"
      ]
     },
     "execution_count": 55,
     "metadata": {},
     "output_type": "execute_result"
    }
   ],
   "source": [
    "#troca tipo para inteiro\n",
    "dados_2.astype(int)"
   ]
  },
  {
   "cell_type": "markdown",
   "metadata": {},
   "source": [
    "## Codigo de modelagem para Classificação"
   ]
  },
  {
   "cell_type": "markdown",
   "metadata": {},
   "source": [
    "Passos para rodar modelo\n",
    "\n",
    "0. Renomear variaveis, caso seja necessario\n",
    "1. Verificação de problema raro-  targe com apenas 5% de observações\n",
    "2. Pipeline de modelagem"
   ]
  },
  {
   "cell_type": "code",
   "execution_count": null,
   "metadata": {},
   "outputs": [],
   "source": [
    "dados_2 = dados_2"
   ]
  },
  {
   "cell_type": "code",
   "execution_count": null,
   "metadata": {},
   "outputs": [],
   "source": [
    "#verificação de problemas raros"
   ]
  },
  {
   "cell_type": "code",
   "execution_count": 45,
   "metadata": {},
   "outputs": [],
   "source": [
    "# separar respostas\n",
    "expl = dados_2.drop(columns=['ativos'], axis=1)\n",
    "target = dados['ativos']"
   ]
  },
  {
   "cell_type": "code",
   "execution_count": 46,
   "metadata": {},
   "outputs": [
    {
     "data": {
      "text/plain": [
       "(1714, 12)"
      ]
     },
     "execution_count": 46,
     "metadata": {},
     "output_type": "execute_result"
    }
   ],
   "source": [
    "expl.shape"
   ]
  },
  {
   "cell_type": "code",
   "execution_count": 47,
   "metadata": {},
   "outputs": [
    {
     "data": {
      "text/plain": [
       "(1714,)"
      ]
     },
     "execution_count": 47,
     "metadata": {},
     "output_type": "execute_result"
    }
   ],
   "source": [
    "target.shape"
   ]
  },
  {
   "cell_type": "code",
   "execution_count": 48,
   "metadata": {},
   "outputs": [],
   "source": [
    "#\n",
    "from sklearn.model_selection import train_test_split\n",
    "x_treino, x_teste, y_treino, y_teste = train_test_split(expl, target, test_size=0.3, random_state=42)"
   ]
  },
  {
   "cell_type": "code",
   "execution_count": 49,
   "metadata": {},
   "outputs": [
    {
     "data": {
      "text/html": [
       "<div>\n",
       "<style scoped>\n",
       "    .dataframe tbody tr th:only-of-type {\n",
       "        vertical-align: middle;\n",
       "    }\n",
       "\n",
       "    .dataframe tbody tr th {\n",
       "        vertical-align: top;\n",
       "    }\n",
       "\n",
       "    .dataframe thead th {\n",
       "        text-align: right;\n",
       "    }\n",
       "</style>\n",
       "<table border=\"1\" class=\"dataframe\">\n",
       "  <thead>\n",
       "    <tr style=\"text-align: right;\">\n",
       "      <th></th>\n",
       "      <th>companhia</th>\n",
       "      <th>opex</th>\n",
       "      <th>remuneracaoEmAcoes</th>\n",
       "      <th>despesasAdministrativas</th>\n",
       "      <th>exercicioOpcoes</th>\n",
       "      <th>valorGastoExercicioOpcoes</th>\n",
       "      <th>amortizacao</th>\n",
       "      <th>lucroBruto</th>\n",
       "      <th>receitas</th>\n",
       "      <th>passivos</th>\n",
       "      <th>depreciacao</th>\n",
       "      <th>ganhosPorAcao</th>\n",
       "    </tr>\n",
       "  </thead>\n",
       "  <tbody>\n",
       "    <tr>\n",
       "      <th>2597</th>\n",
       "      <td>1070985.0</td>\n",
       "      <td>1.228080e+09</td>\n",
       "      <td>0.0</td>\n",
       "      <td>103936000.0</td>\n",
       "      <td>7700000.0</td>\n",
       "      <td>7700000.0</td>\n",
       "      <td>0.0</td>\n",
       "      <td>0.0</td>\n",
       "      <td>1.755745e+09</td>\n",
       "      <td>1.893270e+09</td>\n",
       "      <td>151400000.0</td>\n",
       "      <td>1.90</td>\n",
       "    </tr>\n",
       "    <tr>\n",
       "      <th>2821</th>\n",
       "      <td>1104506.0</td>\n",
       "      <td>1.174930e+08</td>\n",
       "      <td>0.0</td>\n",
       "      <td>43216000.0</td>\n",
       "      <td>5112000.0</td>\n",
       "      <td>5112000.0</td>\n",
       "      <td>0.0</td>\n",
       "      <td>0.0</td>\n",
       "      <td>0.000000e+00</td>\n",
       "      <td>4.485800e+07</td>\n",
       "      <td>0.0</td>\n",
       "      <td>0.00</td>\n",
       "    </tr>\n",
       "    <tr>\n",
       "      <th>1302</th>\n",
       "      <td>821483.0</td>\n",
       "      <td>0.000000e+00</td>\n",
       "      <td>0.0</td>\n",
       "      <td>44271000.0</td>\n",
       "      <td>0.0</td>\n",
       "      <td>0.0</td>\n",
       "      <td>18630000.0</td>\n",
       "      <td>0.0</td>\n",
       "      <td>2.066337e+09</td>\n",
       "      <td>5.516500e+08</td>\n",
       "      <td>0.0</td>\n",
       "      <td>-1.06</td>\n",
       "    </tr>\n",
       "    <tr>\n",
       "      <th>3357</th>\n",
       "      <td>1273441.0</td>\n",
       "      <td>0.000000e+00</td>\n",
       "      <td>0.0</td>\n",
       "      <td>32353000.0</td>\n",
       "      <td>0.0</td>\n",
       "      <td>0.0</td>\n",
       "      <td>0.0</td>\n",
       "      <td>0.0</td>\n",
       "      <td>0.000000e+00</td>\n",
       "      <td>0.000000e+00</td>\n",
       "      <td>0.0</td>\n",
       "      <td>-0.94</td>\n",
       "    </tr>\n",
       "    <tr>\n",
       "      <th>1933</th>\n",
       "      <td>926423.0</td>\n",
       "      <td>2.942900e+07</td>\n",
       "      <td>0.0</td>\n",
       "      <td>18966000.0</td>\n",
       "      <td>0.0</td>\n",
       "      <td>0.0</td>\n",
       "      <td>3488000.0</td>\n",
       "      <td>2669000.0</td>\n",
       "      <td>5.181900e+07</td>\n",
       "      <td>2.972200e+07</td>\n",
       "      <td>0.0</td>\n",
       "      <td>-3.22</td>\n",
       "    </tr>\n",
       "    <tr>\n",
       "      <th>...</th>\n",
       "      <td>...</td>\n",
       "      <td>...</td>\n",
       "      <td>...</td>\n",
       "      <td>...</td>\n",
       "      <td>...</td>\n",
       "      <td>...</td>\n",
       "      <td>...</td>\n",
       "      <td>...</td>\n",
       "      <td>...</td>\n",
       "      <td>...</td>\n",
       "      <td>...</td>\n",
       "      <td>...</td>\n",
       "    </tr>\n",
       "    <tr>\n",
       "      <th>3125</th>\n",
       "      <td>1168054.0</td>\n",
       "      <td>0.000000e+00</td>\n",
       "      <td>0.0</td>\n",
       "      <td>74688000.0</td>\n",
       "      <td>21439000.0</td>\n",
       "      <td>8451000.0</td>\n",
       "      <td>0.0</td>\n",
       "      <td>0.0</td>\n",
       "      <td>1.452619e+09</td>\n",
       "      <td>2.445608e+09</td>\n",
       "      <td>0.0</td>\n",
       "      <td>-25.92</td>\n",
       "    </tr>\n",
       "    <tr>\n",
       "      <th>3447</th>\n",
       "      <td>1289945.0</td>\n",
       "      <td>0.000000e+00</td>\n",
       "      <td>0.0</td>\n",
       "      <td>42159000.0</td>\n",
       "      <td>0.0</td>\n",
       "      <td>0.0</td>\n",
       "      <td>418000.0</td>\n",
       "      <td>0.0</td>\n",
       "      <td>0.000000e+00</td>\n",
       "      <td>5.686900e+07</td>\n",
       "      <td>8570000.0</td>\n",
       "      <td>3.99</td>\n",
       "    </tr>\n",
       "    <tr>\n",
       "      <th>2568</th>\n",
       "      <td>1067294.0</td>\n",
       "      <td>0.000000e+00</td>\n",
       "      <td>0.0</td>\n",
       "      <td>147544000.0</td>\n",
       "      <td>0.0</td>\n",
       "      <td>0.0</td>\n",
       "      <td>0.0</td>\n",
       "      <td>0.0</td>\n",
       "      <td>0.000000e+00</td>\n",
       "      <td>0.000000e+00</td>\n",
       "      <td>72390000.0</td>\n",
       "      <td>6.85</td>\n",
       "    </tr>\n",
       "    <tr>\n",
       "      <th>3749</th>\n",
       "      <td>1347652.0</td>\n",
       "      <td>0.000000e+00</td>\n",
       "      <td>0.0</td>\n",
       "      <td>9745704.0</td>\n",
       "      <td>0.0</td>\n",
       "      <td>0.0</td>\n",
       "      <td>0.0</td>\n",
       "      <td>0.0</td>\n",
       "      <td>7.128894e+07</td>\n",
       "      <td>2.342957e+08</td>\n",
       "      <td>0.0</td>\n",
       "      <td>0.79</td>\n",
       "    </tr>\n",
       "    <tr>\n",
       "      <th>3115</th>\n",
       "      <td>1165002.0</td>\n",
       "      <td>8.871600e+07</td>\n",
       "      <td>0.0</td>\n",
       "      <td>8531000.0</td>\n",
       "      <td>0.0</td>\n",
       "      <td>0.0</td>\n",
       "      <td>0.0</td>\n",
       "      <td>0.0</td>\n",
       "      <td>1.309360e+08</td>\n",
       "      <td>4.736900e+07</td>\n",
       "      <td>1050000.0</td>\n",
       "      <td>3.49</td>\n",
       "    </tr>\n",
       "  </tbody>\n",
       "</table>\n",
       "<p>1199 rows × 12 columns</p>\n",
       "</div>"
      ],
      "text/plain": [
       "      companhia          opex  remuneracaoEmAcoes  despesasAdministrativas  \\\n",
       "2597  1070985.0  1.228080e+09                 0.0              103936000.0   \n",
       "2821  1104506.0  1.174930e+08                 0.0               43216000.0   \n",
       "1302   821483.0  0.000000e+00                 0.0               44271000.0   \n",
       "3357  1273441.0  0.000000e+00                 0.0               32353000.0   \n",
       "1933   926423.0  2.942900e+07                 0.0               18966000.0   \n",
       "...         ...           ...                 ...                      ...   \n",
       "3125  1168054.0  0.000000e+00                 0.0               74688000.0   \n",
       "3447  1289945.0  0.000000e+00                 0.0               42159000.0   \n",
       "2568  1067294.0  0.000000e+00                 0.0              147544000.0   \n",
       "3749  1347652.0  0.000000e+00                 0.0                9745704.0   \n",
       "3115  1165002.0  8.871600e+07                 0.0                8531000.0   \n",
       "\n",
       "      exercicioOpcoes  valorGastoExercicioOpcoes  amortizacao  lucroBruto  \\\n",
       "2597        7700000.0                  7700000.0          0.0         0.0   \n",
       "2821        5112000.0                  5112000.0          0.0         0.0   \n",
       "1302              0.0                        0.0   18630000.0         0.0   \n",
       "3357              0.0                        0.0          0.0         0.0   \n",
       "1933              0.0                        0.0    3488000.0   2669000.0   \n",
       "...               ...                        ...          ...         ...   \n",
       "3125       21439000.0                  8451000.0          0.0         0.0   \n",
       "3447              0.0                        0.0     418000.0         0.0   \n",
       "2568              0.0                        0.0          0.0         0.0   \n",
       "3749              0.0                        0.0          0.0         0.0   \n",
       "3115              0.0                        0.0          0.0         0.0   \n",
       "\n",
       "          receitas      passivos  depreciacao  ganhosPorAcao  \n",
       "2597  1.755745e+09  1.893270e+09  151400000.0           1.90  \n",
       "2821  0.000000e+00  4.485800e+07          0.0           0.00  \n",
       "1302  2.066337e+09  5.516500e+08          0.0          -1.06  \n",
       "3357  0.000000e+00  0.000000e+00          0.0          -0.94  \n",
       "1933  5.181900e+07  2.972200e+07          0.0          -3.22  \n",
       "...            ...           ...          ...            ...  \n",
       "3125  1.452619e+09  2.445608e+09          0.0         -25.92  \n",
       "3447  0.000000e+00  5.686900e+07    8570000.0           3.99  \n",
       "2568  0.000000e+00  0.000000e+00   72390000.0           6.85  \n",
       "3749  7.128894e+07  2.342957e+08          0.0           0.79  \n",
       "3115  1.309360e+08  4.736900e+07    1050000.0           3.49  \n",
       "\n",
       "[1199 rows x 12 columns]"
      ]
     },
     "execution_count": 49,
     "metadata": {},
     "output_type": "execute_result"
    }
   ],
   "source": [
    "x_treino"
   ]
  },
  {
   "cell_type": "code",
   "execution_count": null,
   "metadata": {},
   "outputs": [],
   "source": [
    "dt_reg = Decision"
   ]
  }
 ],
 "metadata": {
  "kernelspec": {
   "display_name": "Python 3",
   "language": "python",
   "name": "python3"
  },
  "language_info": {
   "codemirror_mode": {
    "name": "ipython",
    "version": 3
   },
   "file_extension": ".py",
   "mimetype": "text/x-python",
   "name": "python",
   "nbconvert_exporter": "python",
   "pygments_lexer": "ipython3",
   "version": "3.7.3"
  }
 },
 "nbformat": 4,
 "nbformat_minor": 4
}
